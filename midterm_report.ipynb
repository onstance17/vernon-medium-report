{
 "cells": [
  {
   "attachments": {},
   "cell_type": "markdown",
   "metadata": {},
   "source": [
    "選擇這個資料集的原因是此為課程的延伸，可以在上課內容基礎之下進行適當的調整，發現資料變異性的同時以快速的方式修正，我認為這是練習基本功重要的特點，此份資料是用來預測transported的true、false，sample呈現其實transported全部都是false，想知道按照自己過往所學的內容可以獲得多少的準確度呢？也期望在探索過程可以學習一些新技巧，尤其是資料修正、填補的部分，到底怎樣填補會形成最佳預測值，希望這份資料能帶給我上述的結論。"
   ]
  },
  {
   "attachments": {},
   "cell_type": "markdown",
   "metadata": {},
   "source": [
    "載入模組"
   ]
  },
  {
   "cell_type": "code",
   "execution_count": 4,
   "metadata": {},
   "outputs": [],
   "source": [
    "import pandas as pd\n",
    "import numpy as np\n",
    "import matplotlib.pyplot as plt\n",
    "import seaborn as sns"
   ]
  },
  {
   "attachments": {},
   "cell_type": "markdown",
   "metadata": {},
   "source": [
    "載入資料集\n"
   ]
  },
  {
   "cell_type": "code",
   "execution_count": 6,
   "metadata": {},
   "outputs": [
    {
     "data": {
      "text/plain": [
       "<bound method NDFrame.head of      PassengerId HomePlanet CryoSleep     Cabin    Destination   Age    VIP  \\\n",
       "0        0001_01     Europa     False     B/0/P    TRAPPIST-1e  39.0  False   \n",
       "1        0002_01      Earth     False     F/0/S    TRAPPIST-1e  24.0  False   \n",
       "2        0003_01     Europa     False     A/0/S    TRAPPIST-1e  58.0   True   \n",
       "3        0003_02     Europa     False     A/0/S    TRAPPIST-1e  33.0  False   \n",
       "4        0004_01      Earth     False     F/1/S    TRAPPIST-1e  16.0  False   \n",
       "...          ...        ...       ...       ...            ...   ...    ...   \n",
       "8688     9276_01     Europa     False    A/98/P    55 Cancri e  41.0   True   \n",
       "8689     9278_01      Earth      True  G/1499/S  PSO J318.5-22  18.0  False   \n",
       "8690     9279_01      Earth     False  G/1500/S    TRAPPIST-1e  26.0  False   \n",
       "8691     9280_01     Europa     False   E/608/S    55 Cancri e  32.0  False   \n",
       "8692     9280_02     Europa     False   E/608/S    TRAPPIST-1e  44.0  False   \n",
       "\n",
       "      RoomService  FoodCourt  ShoppingMall     Spa  VRDeck               Name  \\\n",
       "0             0.0        0.0           0.0     0.0     0.0    Maham Ofracculy   \n",
       "1           109.0        9.0          25.0   549.0    44.0       Juanna Vines   \n",
       "2            43.0     3576.0           0.0  6715.0    49.0      Altark Susent   \n",
       "3             0.0     1283.0         371.0  3329.0   193.0       Solam Susent   \n",
       "4           303.0       70.0         151.0   565.0     2.0  Willy Santantines   \n",
       "...           ...        ...           ...     ...     ...                ...   \n",
       "8688          0.0     6819.0           0.0  1643.0    74.0  Gravior Noxnuther   \n",
       "8689          0.0        0.0           0.0     0.0     0.0    Kurta Mondalley   \n",
       "8690          0.0        0.0        1872.0     1.0     0.0       Fayey Connon   \n",
       "8691          0.0     1049.0           0.0   353.0  3235.0   Celeon Hontichre   \n",
       "8692        126.0     4688.0           0.0     0.0    12.0   Propsh Hontichre   \n",
       "\n",
       "      Transported  \n",
       "0           False  \n",
       "1            True  \n",
       "2           False  \n",
       "3           False  \n",
       "4            True  \n",
       "...           ...  \n",
       "8688        False  \n",
       "8689        False  \n",
       "8690         True  \n",
       "8691        False  \n",
       "8692         True  \n",
       "\n",
       "[8693 rows x 14 columns]>"
      ]
     },
     "execution_count": 6,
     "metadata": {},
     "output_type": "execute_result"
    }
   ],
   "source": [
    "df = pd.read_csv(\"train.csv\")\n",
    "df.head"
   ]
  },
  {
   "attachments": {},
   "cell_type": "markdown",
   "metadata": {},
   "source": [
    "觀察資料集\n",
    "#遺漏值處理、格式轉換\n",
    "#扔掉欄位，發現name cabin destination留著後面無法轉換格式，因此先行處理掉\n",
    "#視覺化觀察，可自由換變數比較，等會先尋找數值類的"
   ]
  },
  {
   "cell_type": "code",
   "execution_count": 7,
   "metadata": {},
   "outputs": [
    {
     "name": "stderr",
     "output_type": "stream",
     "text": [
      "<__array_function__ internals>:5: RuntimeWarning: Converting input from bool to <class 'numpy.uint8'> for compatibility.\n",
      "<__array_function__ internals>:5: RuntimeWarning: Converting input from bool to <class 'numpy.uint8'> for compatibility.\n",
      "<__array_function__ internals>:5: RuntimeWarning: Converting input from bool to <class 'numpy.uint8'> for compatibility.\n",
      "<__array_function__ internals>:5: RuntimeWarning: Converting input from bool to <class 'numpy.uint8'> for compatibility.\n",
      "<__array_function__ internals>:5: RuntimeWarning: Converting input from bool to <class 'numpy.uint8'> for compatibility.\n",
      "<__array_function__ internals>:5: RuntimeWarning: Converting input from bool to <class 'numpy.uint8'> for compatibility.\n",
      "<__array_function__ internals>:5: RuntimeWarning: Converting input from bool to <class 'numpy.uint8'> for compatibility.\n",
      "<__array_function__ internals>:5: RuntimeWarning: Converting input from bool to <class 'numpy.uint8'> for compatibility.\n",
      "<__array_function__ internals>:5: RuntimeWarning: Converting input from bool to <class 'numpy.uint8'> for compatibility.\n",
      "<__array_function__ internals>:5: RuntimeWarning: Converting input from bool to <class 'numpy.uint8'> for compatibility.\n"
     ]
    },
    {
     "data": {
      "text/plain": [
       "<seaborn.axisgrid.PairGrid at 0x14e6e52baf0>"
      ]
     },
     "execution_count": 7,
     "metadata": {},
     "output_type": "execute_result"
    },
    {
     "data": {
      "image/png": "[encoded data removed]",
      "text/plain": [
       "<Figure size 250x250 with 2 Axes>"
      ]
     },
     "metadata": {},
     "output_type": "display_data"
    },
    {
     "data": {
      "image/png": "[encoded data removed]",
      "text/plain": [
       "<Figure size 500x500 with 6 Axes>"
      ]
     },
     "metadata": {},
     "output_type": "display_data"
    },
    {
     "data": {
      "image/png": "[encoded data removed]",
      "text/plain": [
       "<Figure size 500x500 with 6 Axes>"
      ]
     },
     "metadata": {},
     "output_type": "display_data"
    },
    {
     "data": {
      "image/png": "[encoded data removed]",
      "text/plain": [
       "<Figure size 500x500 with 6 Axes>"
      ]
     },
     "metadata": {},
     "output_type": "display_data"
    }
   ],
   "source": [
    "df.drop(['Name','Cabin','Destination'], axis=1, inplace=True)\n",
    "\n",
    "sns.pairplot(df[['Transported', 'HomePlanet']], dropna=True)\n",
    "\n",
    "sns.pairplot(df[['Transported', 'VIP']], dropna=True)\n",
    "\n",
    "sns.pairplot(df[['Transported', 'Age']], dropna=True)\n",
    "\n",
    "sns.pairplot(df[['Transported', 'RoomService']], dropna=True)"
   ]
  },
  {
   "attachments": {},
   "cell_type": "markdown",
   "metadata": {},
   "source": [
    "以下用Transported來分組 得到數值化平均值"
   ]
  },
  {
   "cell_type": "code",
   "execution_count": 8,
   "metadata": {},
   "outputs": [
    {
     "data": {
      "text/html": [
       "<div>\n",
       "<style scoped>\n",
       "    .dataframe tbody tr th:only-of-type {\n",
       "        vertical-align: middle;\n",
       "    }\n",
       "\n",
       "    .dataframe tbody tr th {\n",
       "        vertical-align: top;\n",
       "    }\n",
       "\n",
       "    .dataframe thead th {\n",
       "        text-align: right;\n",
       "    }\n",
       "</style>\n",
       "<table border=\"1\" class=\"dataframe\">\n",
       "  <thead>\n",
       "    <tr style=\"text-align: right;\">\n",
       "      <th></th>\n",
       "      <th>Age</th>\n",
       "      <th>RoomService</th>\n",
       "      <th>FoodCourt</th>\n",
       "      <th>ShoppingMall</th>\n",
       "      <th>Spa</th>\n",
       "      <th>VRDeck</th>\n",
       "    </tr>\n",
       "    <tr>\n",
       "      <th>Transported</th>\n",
       "      <th></th>\n",
       "      <th></th>\n",
       "      <th></th>\n",
       "      <th></th>\n",
       "      <th></th>\n",
       "      <th></th>\n",
       "    </tr>\n",
       "  </thead>\n",
       "  <tbody>\n",
       "    <tr>\n",
       "      <th>False</th>\n",
       "      <td>29.922858</td>\n",
       "      <td>389.266066</td>\n",
       "      <td>382.615930</td>\n",
       "      <td>167.566217</td>\n",
       "      <td>564.382666</td>\n",
       "      <td>543.629822</td>\n",
       "    </tr>\n",
       "    <tr>\n",
       "      <th>True</th>\n",
       "      <td>27.748834</td>\n",
       "      <td>63.098021</td>\n",
       "      <td>532.691984</td>\n",
       "      <td>179.829972</td>\n",
       "      <td>61.675531</td>\n",
       "      <td>69.148131</td>\n",
       "    </tr>\n",
       "  </tbody>\n",
       "</table>\n",
       "</div>"
      ],
      "text/plain": [
       "                   Age  RoomService   FoodCourt  ShoppingMall         Spa  \\\n",
       "Transported                                                                 \n",
       "False        29.922858   389.266066  382.615930    167.566217  564.382666   \n",
       "True         27.748834    63.098021  532.691984    179.829972   61.675531   \n",
       "\n",
       "                 VRDeck  \n",
       "Transported              \n",
       "False        543.629822  \n",
       "True          69.148131  "
      ]
     },
     "execution_count": 8,
     "metadata": {},
     "output_type": "execute_result"
    }
   ],
   "source": [
    "df.groupby('Transported').mean()"
   ]
  },
  {
   "attachments": {},
   "cell_type": "markdown",
   "metadata": {},
   "source": [
    "各欄位分布狀況累計，可得數據龐大，8000多筆資料"
   ]
  },
  {
   "cell_type": "code",
   "execution_count": 19,
   "metadata": {},
   "outputs": [
    {
     "data": {
      "text/plain": [
       "Earth     4602\n",
       "Europa    2131\n",
       "Mars      1759\n",
       "Name: HomePlanet, dtype: int64"
      ]
     },
     "execution_count": 19,
     "metadata": {},
     "output_type": "execute_result"
    }
   ],
   "source": [
    "df['HomePlanet'].value_counts()\n"
   ]
  },
  {
   "cell_type": "code",
   "execution_count": 20,
   "metadata": {},
   "outputs": [
    {
     "data": {
      "text/plain": [
       "False    5439\n",
       "True     3037\n",
       "Name: CryoSleep, dtype: int64"
      ]
     },
     "execution_count": 20,
     "metadata": {},
     "output_type": "execute_result"
    }
   ],
   "source": [
    "df['CryoSleep'].value_counts()"
   ]
  },
  {
   "cell_type": "code",
   "execution_count": 21,
   "metadata": {},
   "outputs": [
    {
     "data": {
      "text/plain": [
       "False    8291\n",
       "True      199\n",
       "Name: VIP, dtype: int64"
      ]
     },
     "execution_count": 21,
     "metadata": {},
     "output_type": "execute_result"
    }
   ],
   "source": [
    "df['VIP'].value_counts()"
   ]
  },
  {
   "cell_type": "code",
   "execution_count": 22,
   "metadata": {},
   "outputs": [
    {
     "data": {
      "text/plain": [
       "0.0       5577\n",
       "1.0        117\n",
       "2.0         79\n",
       "3.0         61\n",
       "4.0         47\n",
       "          ... \n",
       "1612.0       1\n",
       "2598.0       1\n",
       "632.0        1\n",
       "378.0        1\n",
       "745.0        1\n",
       "Name: RoomService, Length: 1273, dtype: int64"
      ]
     },
     "execution_count": 22,
     "metadata": {},
     "output_type": "execute_result"
    }
   ],
   "source": [
    "df['RoomService'].value_counts()"
   ]
  },
  {
   "attachments": {},
   "cell_type": "markdown",
   "metadata": {},
   "source": [
    "處理資料\n",
    "#isnull是跑空值(缺失)與否的true or false\n",
    "#缺失超過一半的欄位就丟掉，發現大家缺少的資料以全部來說占比都不算多，欄位中最多缺失整體的0.025，也沒人空值超過一半，因此都嘗試填補"
   ]
  },
  {
   "cell_type": "code",
   "execution_count": 23,
   "metadata": {},
   "outputs": [
    {
     "data": {
      "text/plain": [
       "PassengerId       0\n",
       "HomePlanet      201\n",
       "CryoSleep       217\n",
       "Age             179\n",
       "VIP             203\n",
       "RoomService     181\n",
       "FoodCourt       183\n",
       "ShoppingMall    208\n",
       "Spa             183\n",
       "VRDeck          188\n",
       "Transported       0\n",
       "dtype: int64"
      ]
     },
     "execution_count": 23,
     "metadata": {},
     "output_type": "execute_result"
    }
   ],
   "source": [
    "df.isnull().sum()"
   ]
  },
  {
   "cell_type": "code",
   "execution_count": 24,
   "metadata": {},
   "outputs": [
    {
     "data": {
      "text/plain": [
       "4346.5"
      ]
     },
     "execution_count": 24,
     "metadata": {},
     "output_type": "execute_result"
    }
   ],
   "source": [
    "len(df)/2"
   ]
  },
  {
   "cell_type": "code",
   "execution_count": 25,
   "metadata": {},
   "outputs": [
    {
     "data": {
      "text/plain": [
       "PassengerId     False\n",
       "HomePlanet      False\n",
       "CryoSleep       False\n",
       "Age             False\n",
       "VIP             False\n",
       "RoomService     False\n",
       "FoodCourt       False\n",
       "ShoppingMall    False\n",
       "Spa             False\n",
       "VRDeck          False\n",
       "Transported     False\n",
       "dtype: bool"
      ]
     },
     "execution_count": 25,
     "metadata": {},
     "output_type": "execute_result"
    }
   ],
   "source": [
    "df.isnull().sum() > (len(df)/2)"
   ]
  },
  {
   "attachments": {},
   "cell_type": "markdown",
   "metadata": {},
   "source": [
    "#先算到底各欄位有多少筆，此處不全部挑選，再分組比較是否有機會以中位數填補？數值型資料缺失填補使用中位數，發現要先解決非數值型資料，於是下一步先以idmax去填補。"
   ]
  },
  {
   "cell_type": "code",
   "execution_count": 27,
   "metadata": {},
   "outputs": [
    {
     "data": {
      "text/plain": [
       "False    8514\n",
       "True      179\n",
       "Name: Age, dtype: int64"
      ]
     },
     "execution_count": 27,
     "metadata": {},
     "output_type": "execute_result"
    }
   ],
   "source": [
    "df['Age'].isnull().value_counts()"
   ]
  },
  {
   "cell_type": "code",
   "execution_count": 28,
   "metadata": {},
   "outputs": [
    {
     "data": {
      "text/plain": [
       "False    8492\n",
       "True      201\n",
       "Name: HomePlanet, dtype: int64"
      ]
     },
     "execution_count": 28,
     "metadata": {},
     "output_type": "execute_result"
    }
   ],
   "source": [
    "df['HomePlanet'].isnull().value_counts()"
   ]
  },
  {
   "cell_type": "code",
   "execution_count": 29,
   "metadata": {},
   "outputs": [
    {
     "data": {
      "text/plain": [
       "False    8476\n",
       "True      217\n",
       "Name: CryoSleep, dtype: int64"
      ]
     },
     "execution_count": 29,
     "metadata": {},
     "output_type": "execute_result"
    }
   ],
   "source": [
    "df['CryoSleep'].isnull().value_counts()\n"
   ]
  },
  {
   "cell_type": "code",
   "execution_count": 30,
   "metadata": {},
   "outputs": [
    {
     "data": {
      "text/plain": [
       "False    8512\n",
       "True      181\n",
       "Name: RoomService, dtype: int64"
      ]
     },
     "execution_count": 30,
     "metadata": {},
     "output_type": "execute_result"
    }
   ],
   "source": [
    "df['RoomService'].isnull().value_counts()\n"
   ]
  },
  {
   "cell_type": "code",
   "execution_count": 31,
   "metadata": {},
   "outputs": [
    {
     "data": {
      "text/plain": [
       "False    8490\n",
       "True      203\n",
       "Name: VIP, dtype: int64"
      ]
     },
     "execution_count": 31,
     "metadata": {},
     "output_type": "execute_result"
    }
   ],
   "source": [
    "df['VIP'].isnull().value_counts()\n"
   ]
  },
  {
   "attachments": {},
   "cell_type": "markdown",
   "metadata": {},
   "source": [
    "以下進行分組比較，尋找是否有機會中位數填補，發現有些欄位間的關係由於欄位屬性不太一樣，似乎也沒甚麼好比較的，等下直接以另一種方式填補。"
   ]
  },
  {
   "cell_type": "code",
   "execution_count": 32,
   "metadata": {},
   "outputs": [
    {
     "data": {
      "text/plain": [
       "<AxesSubplot:xlabel='Transported'>"
      ]
     },
     "execution_count": 32,
     "metadata": {},
     "output_type": "execute_result"
    },
    {
     "data": {
      "image/png": "[encoded data removed]",
      "text/plain": [
       "<Figure size 640x480 with 1 Axes>"
      ]
     },
     "metadata": {},
     "output_type": "display_data"
    }
   ],
   "source": [
    "df.groupby('Transported')['Age'].median().plot(kind='bar')\n"
   ]
  },
  {
   "cell_type": "code",
   "execution_count": 33,
   "metadata": {},
   "outputs": [
    {
     "data": {
      "text/plain": [
       "<AxesSubplot:xlabel='Transported'>"
      ]
     },
     "execution_count": 33,
     "metadata": {},
     "output_type": "execute_result"
    },
    {
     "data": {
      "image/png": "[encoded data removed]",
      "text/plain": [
       "<Figure size 640x480 with 1 Axes>"
      ]
     },
     "metadata": {},
     "output_type": "display_data"
    }
   ],
   "source": [
    "df.groupby('Transported')['FoodCourt'].median().plot(kind='bar')\n"
   ]
  },
  {
   "cell_type": "code",
   "execution_count": 34,
   "metadata": {},
   "outputs": [
    {
     "data": {
      "text/plain": [
       "<AxesSubplot:xlabel='Transported'>"
      ]
     },
     "execution_count": 34,
     "metadata": {},
     "output_type": "execute_result"
    },
    {
     "data": {
      "image/png": "[encoded data removed]",
      "text/plain": [
       "<Figure size 640x480 with 1 Axes>"
      ]
     },
     "metadata": {},
     "output_type": "display_data"
    }
   ],
   "source": [
    "df.groupby('Transported')['RoomService'].median().plot(kind='bar')\n"
   ]
  },
  {
   "cell_type": "code",
   "execution_count": 35,
   "metadata": {},
   "outputs": [
    {
     "data": {
      "text/plain": [
       "<AxesSubplot:xlabel='Transported'>"
      ]
     },
     "execution_count": 35,
     "metadata": {},
     "output_type": "execute_result"
    },
    {
     "data": {
      "image/png": "[encoded data removed]",
      "text/plain": [
       "<Figure size 640x480 with 1 Axes>"
      ]
     },
     "metadata": {},
     "output_type": "display_data"
    }
   ],
   "source": [
    "df.groupby('Transported')['FoodCourt'].median().plot(kind='bar')\n"
   ]
  },
  {
   "cell_type": "code",
   "execution_count": 36,
   "metadata": {},
   "outputs": [
    {
     "data": {
      "text/plain": [
       "<AxesSubplot:xlabel='Transported'>"
      ]
     },
     "execution_count": 36,
     "metadata": {},
     "output_type": "execute_result"
    },
    {
     "data": {
      "image/png": "[encoded data removed]",
      "text/plain": [
       "<Figure size 640x480 with 1 Axes>"
      ]
     },
     "metadata": {},
     "output_type": "display_data"
    }
   ],
   "source": [
    "df.groupby('Transported')['ShoppingMall'].median().plot(kind='bar')\n",
    "\n"
   ]
  },
  {
   "cell_type": "code",
   "execution_count": 38,
   "metadata": {},
   "outputs": [
    {
     "data": {
      "text/plain": [
       "PassengerId       0\n",
       "HomePlanet        0\n",
       "CryoSleep         0\n",
       "Age               0\n",
       "VIP               0\n",
       "RoomService     181\n",
       "FoodCourt       183\n",
       "ShoppingMall    208\n",
       "Spa             183\n",
       "VRDeck          188\n",
       "Transported       0\n",
       "dtype: int64"
      ]
     },
     "execution_count": 38,
     "metadata": {},
     "output_type": "execute_result"
    }
   ],
   "source": [
    "df.isnull().sum()"
   ]
  },
  {
   "attachments": {},
   "cell_type": "markdown",
   "metadata": {},
   "source": [
    "idxmax指得到id目的地最大值，以這些資料來說是取得他們的眾數，我個人覺得這樣準確性比較高，後面也可以將唯一的純數值型資料age應用在中位數填補的部分，也是我暫時唯一想到的辦法。"
   ]
  },
  {
   "cell_type": "code",
   "execution_count": 39,
   "metadata": {},
   "outputs": [
    {
     "data": {
      "text/plain": [
       "'Earth'"
      ]
     },
     "execution_count": 39,
     "metadata": {},
     "output_type": "execute_result"
    }
   ],
   "source": [
    "df['HomePlanet'].value_counts().idxmax()"
   ]
  },
  {
   "cell_type": "code",
   "execution_count": 40,
   "metadata": {},
   "outputs": [],
   "source": [
    "df['HomePlanet'].fillna(df['HomePlanet'].value_counts().idxmax(),inplace = True )\n",
    "\n"
   ]
  },
  {
   "cell_type": "code",
   "execution_count": 41,
   "metadata": {},
   "outputs": [
    {
     "data": {
      "text/plain": [
       "False"
      ]
     },
     "execution_count": 41,
     "metadata": {},
     "output_type": "execute_result"
    }
   ],
   "source": [
    "df['CryoSleep'].value_counts().idxmax()\n"
   ]
  },
  {
   "cell_type": "code",
   "execution_count": 42,
   "metadata": {},
   "outputs": [],
   "source": [
    "df['CryoSleep'].fillna(df['CryoSleep'].value_counts().idxmax(),inplace = True )\n",
    "\n"
   ]
  },
  {
   "cell_type": "code",
   "execution_count": 43,
   "metadata": {},
   "outputs": [
    {
     "data": {
      "text/plain": [
       "False"
      ]
     },
     "execution_count": 43,
     "metadata": {},
     "output_type": "execute_result"
    }
   ],
   "source": [
    "df['VIP'].value_counts().idxmax()\n"
   ]
  },
  {
   "cell_type": "code",
   "execution_count": 44,
   "metadata": {},
   "outputs": [],
   "source": [
    "df['VIP'].fillna(df['VIP'].value_counts().idxmax(),inplace = True )\n",
    "\n"
   ]
  },
  {
   "cell_type": "code",
   "execution_count": 45,
   "metadata": {},
   "outputs": [
    {
     "data": {
      "text/plain": [
       "24.0"
      ]
     },
     "execution_count": 45,
     "metadata": {},
     "output_type": "execute_result"
    }
   ],
   "source": [
    "df['Age'].value_counts().idxmax()\n"
   ]
  },
  {
   "cell_type": "code",
   "execution_count": 46,
   "metadata": {},
   "outputs": [],
   "source": [
    "df['Age'].fillna(df['Age'].value_counts().idxmax(),inplace = True )"
   ]
  },
  {
   "attachments": {},
   "cell_type": "markdown",
   "metadata": {},
   "source": [
    "以下數值型資料以先前用眾數填補完畢的數值型資料age去以中位數填補，然後就會得到資料都沒有空值了。"
   ]
  },
  {
   "cell_type": "code",
   "execution_count": 47,
   "metadata": {},
   "outputs": [],
   "source": [
    "df['RoomService'] = df.groupby('Age')['RoomService'].apply(lambda x: x.fillna(x.median()))"
   ]
  },
  {
   "cell_type": "code",
   "execution_count": 48,
   "metadata": {},
   "outputs": [],
   "source": [
    "df['FoodCourt'] = df.groupby('Age')['FoodCourt'].apply(lambda x: x.fillna(x.median()))\n"
   ]
  },
  {
   "cell_type": "code",
   "execution_count": 49,
   "metadata": {},
   "outputs": [],
   "source": [
    "df['ShoppingMall'] = df.groupby('Age')['ShoppingMall'].apply(lambda x: x.fillna(x.median()))\n"
   ]
  },
  {
   "cell_type": "code",
   "execution_count": 50,
   "metadata": {},
   "outputs": [],
   "source": [
    "df['Spa'] = df.groupby('Age')['Spa'].apply(lambda x: x.fillna(x.median()))\n"
   ]
  },
  {
   "cell_type": "code",
   "execution_count": 51,
   "metadata": {},
   "outputs": [],
   "source": [
    "df['VRDeck'] = df.groupby('Age')['VRDeck'].apply(lambda x: x.fillna(x.median()))\n"
   ]
  },
  {
   "cell_type": "code",
   "execution_count": 52,
   "metadata": {},
   "outputs": [
    {
     "data": {
      "text/plain": [
       "PassengerId     0\n",
       "HomePlanet      0\n",
       "CryoSleep       0\n",
       "Age             0\n",
       "VIP             0\n",
       "RoomService     0\n",
       "FoodCourt       0\n",
       "ShoppingMall    0\n",
       "Spa             0\n",
       "VRDeck          0\n",
       "Transported     0\n",
       "dtype: int64"
      ]
     },
     "execution_count": 52,
     "metadata": {},
     "output_type": "execute_result"
    }
   ],
   "source": [
    "df.isnull().sum()"
   ]
  },
  {
   "attachments": {},
   "cell_type": "markdown",
   "metadata": {},
   "source": [
    "getdummies指欄位值變化類型小的，選取欄位值變化小的來比較，把結果變純粹的數值。"
   ]
  },
  {
   "cell_type": "code",
   "execution_count": 53,
   "metadata": {},
   "outputs": [],
   "source": [
    "df = pd.get_dummies(data=df, columns=['VIP', 'HomePlanet'])"
   ]
  },
  {
   "cell_type": "code",
   "execution_count": 54,
   "metadata": {},
   "outputs": [
    {
     "data": {
      "text/plain": [
       "<bound method NDFrame.head of      PassengerId  CryoSleep   Age  RoomService  FoodCourt  ShoppingMall  \\\n",
       "0        0001_01      False  39.0          0.0        0.0           0.0   \n",
       "1        0002_01      False  24.0        109.0        9.0          25.0   \n",
       "2        0003_01      False  58.0         43.0     3576.0           0.0   \n",
       "3        0003_02      False  33.0          0.0     1283.0         371.0   \n",
       "4        0004_01      False  16.0        303.0       70.0         151.0   \n",
       "...          ...        ...   ...          ...        ...           ...   \n",
       "8688     9276_01      False  41.0          0.0     6819.0           0.0   \n",
       "8689     9278_01       True  18.0          0.0        0.0           0.0   \n",
       "8690     9279_01      False  26.0          0.0        0.0        1872.0   \n",
       "8691     9280_01      False  32.0          0.0     1049.0           0.0   \n",
       "8692     9280_02      False  44.0        126.0     4688.0           0.0   \n",
       "\n",
       "         Spa  VRDeck  Transported  VIP_False  VIP_True  HomePlanet_Earth  \\\n",
       "0        0.0     0.0        False          1         0                 0   \n",
       "1      549.0    44.0         True          1         0                 1   \n",
       "2     6715.0    49.0        False          0         1                 0   \n",
       "3     3329.0   193.0        False          1         0                 0   \n",
       "4      565.0     2.0         True          1         0                 1   \n",
       "...      ...     ...          ...        ...       ...               ...   \n",
       "8688  1643.0    74.0        False          0         1                 0   \n",
       "8689     0.0     0.0        False          1         0                 1   \n",
       "8690     1.0     0.0         True          1         0                 1   \n",
       "8691   353.0  3235.0        False          1         0                 0   \n",
       "8692     0.0    12.0         True          1         0                 0   \n",
       "\n",
       "      HomePlanet_Europa  HomePlanet_Mars  \n",
       "0                     1                0  \n",
       "1                     0                0  \n",
       "2                     1                0  \n",
       "3                     1                0  \n",
       "4                     0                0  \n",
       "...                 ...              ...  \n",
       "8688                  1                0  \n",
       "8689                  0                0  \n",
       "8690                  0                0  \n",
       "8691                  1                0  \n",
       "8692                  1                0  \n",
       "\n",
       "[8693 rows x 14 columns]>"
      ]
     },
     "execution_count": 54,
     "metadata": {},
     "output_type": "execute_result"
    }
   ],
   "source": [
    "df.head"
   ]
  },
  {
   "cell_type": "code",
   "execution_count": 55,
   "metadata": {},
   "outputs": [],
   "source": [
    "df.drop('VIP_True', axis=1, inplace=True)"
   ]
  },
  {
   "cell_type": "code",
   "execution_count": 56,
   "metadata": {},
   "outputs": [
    {
     "data": {
      "text/plain": [
       "<bound method NDFrame.head of      PassengerId  CryoSleep   Age  RoomService  FoodCourt  ShoppingMall  \\\n",
       "0        0001_01      False  39.0          0.0        0.0           0.0   \n",
       "1        0002_01      False  24.0        109.0        9.0          25.0   \n",
       "2        0003_01      False  58.0         43.0     3576.0           0.0   \n",
       "3        0003_02      False  33.0          0.0     1283.0         371.0   \n",
       "4        0004_01      False  16.0        303.0       70.0         151.0   \n",
       "...          ...        ...   ...          ...        ...           ...   \n",
       "8688     9276_01      False  41.0          0.0     6819.0           0.0   \n",
       "8689     9278_01       True  18.0          0.0        0.0           0.0   \n",
       "8690     9279_01      False  26.0          0.0        0.0        1872.0   \n",
       "8691     9280_01      False  32.0          0.0     1049.0           0.0   \n",
       "8692     9280_02      False  44.0        126.0     4688.0           0.0   \n",
       "\n",
       "         Spa  VRDeck  Transported  VIP_False  HomePlanet_Earth  \\\n",
       "0        0.0     0.0        False          1                 0   \n",
       "1      549.0    44.0         True          1                 1   \n",
       "2     6715.0    49.0        False          0                 0   \n",
       "3     3329.0   193.0        False          1                 0   \n",
       "4      565.0     2.0         True          1                 1   \n",
       "...      ...     ...          ...        ...               ...   \n",
       "8688  1643.0    74.0        False          0                 0   \n",
       "8689     0.0     0.0        False          1                 1   \n",
       "8690     1.0     0.0         True          1                 1   \n",
       "8691   353.0  3235.0        False          1                 0   \n",
       "8692     0.0    12.0         True          1                 0   \n",
       "\n",
       "      HomePlanet_Europa  HomePlanet_Mars  \n",
       "0                     1                0  \n",
       "1                     0                0  \n",
       "2                     1                0  \n",
       "3                     1                0  \n",
       "4                     0                0  \n",
       "...                 ...              ...  \n",
       "8688                  1                0  \n",
       "8689                  0                0  \n",
       "8690                  0                0  \n",
       "8691                  1                0  \n",
       "8692                  1                0  \n",
       "\n",
       "[8693 rows x 13 columns]>"
      ]
     },
     "execution_count": 56,
     "metadata": {},
     "output_type": "execute_result"
    }
   ],
   "source": [
    "df.head"
   ]
  },
  {
   "attachments": {},
   "cell_type": "markdown",
   "metadata": {},
   "source": [
    "info可得目前都是沒空值狀態。"
   ]
  },
  {
   "cell_type": "code",
   "execution_count": 57,
   "metadata": {},
   "outputs": [
    {
     "name": "stdout",
     "output_type": "stream",
     "text": [
      "<class 'pandas.core.frame.DataFrame'>\n",
      "RangeIndex: 8693 entries, 0 to 8692\n",
      "Data columns (total 13 columns):\n",
      " #   Column             Non-Null Count  Dtype  \n",
      "---  ------             --------------  -----  \n",
      " 0   PassengerId        8693 non-null   object \n",
      " 1   CryoSleep          8693 non-null   bool   \n",
      " 2   Age                8693 non-null   float64\n",
      " 3   RoomService        8693 non-null   float64\n",
      " 4   FoodCourt          8693 non-null   float64\n",
      " 5   ShoppingMall       8693 non-null   float64\n",
      " 6   Spa                8693 non-null   float64\n",
      " 7   VRDeck             8693 non-null   float64\n",
      " 8   Transported        8693 non-null   bool   \n",
      " 9   VIP_False          8693 non-null   uint8  \n",
      " 10  HomePlanet_Earth   8693 non-null   uint8  \n",
      " 11  HomePlanet_Europa  8693 non-null   uint8  \n",
      " 12  HomePlanet_Mars    8693 non-null   uint8  \n",
      "dtypes: bool(2), float64(6), object(1), uint8(4)\n",
      "memory usage: 526.5+ KB\n"
     ]
    }
   ],
   "source": [
    "df.info()"
   ]
  },
  {
   "attachments": {},
   "cell_type": "markdown",
   "metadata": {},
   "source": [
    "corr把table旋轉方向"
   ]
  },
  {
   "cell_type": "code",
   "execution_count": 58,
   "metadata": {},
   "outputs": [
    {
     "data": {
      "text/html": [
       "<div>\n",
       "<style scoped>\n",
       "    .dataframe tbody tr th:only-of-type {\n",
       "        vertical-align: middle;\n",
       "    }\n",
       "\n",
       "    .dataframe tbody tr th {\n",
       "        vertical-align: top;\n",
       "    }\n",
       "\n",
       "    .dataframe thead th {\n",
       "        text-align: right;\n",
       "    }\n",
       "</style>\n",
       "<table border=\"1\" class=\"dataframe\">\n",
       "  <thead>\n",
       "    <tr style=\"text-align: right;\">\n",
       "      <th></th>\n",
       "      <th>CryoSleep</th>\n",
       "      <th>Age</th>\n",
       "      <th>RoomService</th>\n",
       "      <th>FoodCourt</th>\n",
       "      <th>ShoppingMall</th>\n",
       "      <th>Spa</th>\n",
       "      <th>VRDeck</th>\n",
       "      <th>Transported</th>\n",
       "      <th>VIP_False</th>\n",
       "      <th>HomePlanet_Earth</th>\n",
       "      <th>HomePlanet_Europa</th>\n",
       "      <th>HomePlanet_Mars</th>\n",
       "    </tr>\n",
       "  </thead>\n",
       "  <tbody>\n",
       "    <tr>\n",
       "      <th>CryoSleep</th>\n",
       "      <td>1.000000</td>\n",
       "      <td>-0.072235</td>\n",
       "      <td>-0.244017</td>\n",
       "      <td>-0.206081</td>\n",
       "      <td>-0.207797</td>\n",
       "      <td>-0.198294</td>\n",
       "      <td>-0.192721</td>\n",
       "      <td>0.460132</td>\n",
       "      <td>0.078281</td>\n",
       "      <td>-0.107231</td>\n",
       "      <td>0.093395</td>\n",
       "      <td>0.032715</td>\n",
       "    </tr>\n",
       "    <tr>\n",
       "      <th>Age</th>\n",
       "      <td>-0.072235</td>\n",
       "      <td>1.000000</td>\n",
       "      <td>0.069078</td>\n",
       "      <td>0.129427</td>\n",
       "      <td>0.033620</td>\n",
       "      <td>0.120694</td>\n",
       "      <td>0.099583</td>\n",
       "      <td>-0.074153</td>\n",
       "      <td>-0.092271</td>\n",
       "      <td>-0.200187</td>\n",
       "      <td>0.217005</td>\n",
       "      <td>0.015410</td>\n",
       "    </tr>\n",
       "    <tr>\n",
       "      <th>RoomService</th>\n",
       "      <td>-0.244017</td>\n",
       "      <td>0.069078</td>\n",
       "      <td>1.000000</td>\n",
       "      <td>-0.015294</td>\n",
       "      <td>0.052322</td>\n",
       "      <td>0.009227</td>\n",
       "      <td>-0.018638</td>\n",
       "      <td>-0.241072</td>\n",
       "      <td>-0.056558</td>\n",
       "      <td>-0.140544</td>\n",
       "      <td>-0.066666</td>\n",
       "      <td>0.245330</td>\n",
       "    </tr>\n",
       "    <tr>\n",
       "      <th>FoodCourt</th>\n",
       "      <td>-0.206081</td>\n",
       "      <td>0.129427</td>\n",
       "      <td>-0.015294</td>\n",
       "      <td>1.000000</td>\n",
       "      <td>-0.013744</td>\n",
       "      <td>0.223218</td>\n",
       "      <td>0.224085</td>\n",
       "      <td>0.044829</td>\n",
       "      <td>-0.125189</td>\n",
       "      <td>-0.214099</td>\n",
       "      <td>0.364114</td>\n",
       "      <td>-0.124887</td>\n",
       "    </tr>\n",
       "    <tr>\n",
       "      <th>ShoppingMall</th>\n",
       "      <td>-0.207797</td>\n",
       "      <td>0.033620</td>\n",
       "      <td>0.052322</td>\n",
       "      <td>-0.013744</td>\n",
       "      <td>1.000000</td>\n",
       "      <td>0.014538</td>\n",
       "      <td>-0.007849</td>\n",
       "      <td>0.009392</td>\n",
       "      <td>-0.018412</td>\n",
       "      <td>-0.071912</td>\n",
       "      <td>-0.021154</td>\n",
       "      <td>0.111654</td>\n",
       "    </tr>\n",
       "    <tr>\n",
       "      <th>Spa</th>\n",
       "      <td>-0.198294</td>\n",
       "      <td>0.120694</td>\n",
       "      <td>0.009227</td>\n",
       "      <td>0.223218</td>\n",
       "      <td>0.014538</td>\n",
       "      <td>1.000000</td>\n",
       "      <td>0.147656</td>\n",
       "      <td>-0.218536</td>\n",
       "      <td>-0.061064</td>\n",
       "      <td>-0.159135</td>\n",
       "      <td>0.266125</td>\n",
       "      <td>-0.087995</td>\n",
       "    </tr>\n",
       "    <tr>\n",
       "      <th>VRDeck</th>\n",
       "      <td>-0.192721</td>\n",
       "      <td>0.099583</td>\n",
       "      <td>-0.018638</td>\n",
       "      <td>0.224085</td>\n",
       "      <td>-0.007849</td>\n",
       "      <td>0.147656</td>\n",
       "      <td>1.000000</td>\n",
       "      <td>-0.204873</td>\n",
       "      <td>-0.123061</td>\n",
       "      <td>-0.154064</td>\n",
       "      <td>0.282556</td>\n",
       "      <td>-0.111863</td>\n",
       "    </tr>\n",
       "    <tr>\n",
       "      <th>Transported</th>\n",
       "      <td>0.460132</td>\n",
       "      <td>-0.074153</td>\n",
       "      <td>-0.241072</td>\n",
       "      <td>0.044829</td>\n",
       "      <td>0.009392</td>\n",
       "      <td>-0.218536</td>\n",
       "      <td>-0.204873</td>\n",
       "      <td>1.000000</td>\n",
       "      <td>0.037261</td>\n",
       "      <td>-0.168845</td>\n",
       "      <td>0.176916</td>\n",
       "      <td>0.019544</td>\n",
       "    </tr>\n",
       "    <tr>\n",
       "      <th>VIP_False</th>\n",
       "      <td>0.078281</td>\n",
       "      <td>-0.092271</td>\n",
       "      <td>-0.056558</td>\n",
       "      <td>-0.125189</td>\n",
       "      <td>-0.018412</td>\n",
       "      <td>-0.061064</td>\n",
       "      <td>-0.123061</td>\n",
       "      <td>0.037261</td>\n",
       "      <td>1.000000</td>\n",
       "      <td>0.162345</td>\n",
       "      <td>-0.147008</td>\n",
       "      <td>-0.043523</td>\n",
       "    </tr>\n",
       "    <tr>\n",
       "      <th>HomePlanet_Earth</th>\n",
       "      <td>-0.107231</td>\n",
       "      <td>-0.200187</td>\n",
       "      <td>-0.140544</td>\n",
       "      <td>-0.214099</td>\n",
       "      <td>-0.071912</td>\n",
       "      <td>-0.159135</td>\n",
       "      <td>-0.154064</td>\n",
       "      <td>-0.168845</td>\n",
       "      <td>0.162345</td>\n",
       "      <td>1.000000</td>\n",
       "      <td>-0.633221</td>\n",
       "      <td>-0.559658</td>\n",
       "    </tr>\n",
       "    <tr>\n",
       "      <th>HomePlanet_Europa</th>\n",
       "      <td>0.093395</td>\n",
       "      <td>0.217005</td>\n",
       "      <td>-0.066666</td>\n",
       "      <td>0.364114</td>\n",
       "      <td>-0.021154</td>\n",
       "      <td>0.266125</td>\n",
       "      <td>0.282556</td>\n",
       "      <td>0.176916</td>\n",
       "      <td>-0.147008</td>\n",
       "      <td>-0.633221</td>\n",
       "      <td>1.000000</td>\n",
       "      <td>-0.287022</td>\n",
       "    </tr>\n",
       "    <tr>\n",
       "      <th>HomePlanet_Mars</th>\n",
       "      <td>0.032715</td>\n",
       "      <td>0.015410</td>\n",
       "      <td>0.245330</td>\n",
       "      <td>-0.124887</td>\n",
       "      <td>0.111654</td>\n",
       "      <td>-0.087995</td>\n",
       "      <td>-0.111863</td>\n",
       "      <td>0.019544</td>\n",
       "      <td>-0.043523</td>\n",
       "      <td>-0.559658</td>\n",
       "      <td>-0.287022</td>\n",
       "      <td>1.000000</td>\n",
       "    </tr>\n",
       "  </tbody>\n",
       "</table>\n",
       "</div>"
      ],
      "text/plain": [
       "                   CryoSleep       Age  RoomService  FoodCourt  ShoppingMall  \\\n",
       "CryoSleep           1.000000 -0.072235    -0.244017  -0.206081     -0.207797   \n",
       "Age                -0.072235  1.000000     0.069078   0.129427      0.033620   \n",
       "RoomService        -0.244017  0.069078     1.000000  -0.015294      0.052322   \n",
       "FoodCourt          -0.206081  0.129427    -0.015294   1.000000     -0.013744   \n",
       "ShoppingMall       -0.207797  0.033620     0.052322  -0.013744      1.000000   \n",
       "Spa                -0.198294  0.120694     0.009227   0.223218      0.014538   \n",
       "VRDeck             -0.192721  0.099583    -0.018638   0.224085     -0.007849   \n",
       "Transported         0.460132 -0.074153    -0.241072   0.044829      0.009392   \n",
       "VIP_False           0.078281 -0.092271    -0.056558  -0.125189     -0.018412   \n",
       "HomePlanet_Earth   -0.107231 -0.200187    -0.140544  -0.214099     -0.071912   \n",
       "HomePlanet_Europa   0.093395  0.217005    -0.066666   0.364114     -0.021154   \n",
       "HomePlanet_Mars     0.032715  0.015410     0.245330  -0.124887      0.111654   \n",
       "\n",
       "                        Spa    VRDeck  Transported  VIP_False  \\\n",
       "CryoSleep         -0.198294 -0.192721     0.460132   0.078281   \n",
       "Age                0.120694  0.099583    -0.074153  -0.092271   \n",
       "RoomService        0.009227 -0.018638    -0.241072  -0.056558   \n",
       "FoodCourt          0.223218  0.224085     0.044829  -0.125189   \n",
       "ShoppingMall       0.014538 -0.007849     0.009392  -0.018412   \n",
       "Spa                1.000000  0.147656    -0.218536  -0.061064   \n",
       "VRDeck             0.147656  1.000000    -0.204873  -0.123061   \n",
       "Transported       -0.218536 -0.204873     1.000000   0.037261   \n",
       "VIP_False         -0.061064 -0.123061     0.037261   1.000000   \n",
       "HomePlanet_Earth  -0.159135 -0.154064    -0.168845   0.162345   \n",
       "HomePlanet_Europa  0.266125  0.282556     0.176916  -0.147008   \n",
       "HomePlanet_Mars   -0.087995 -0.111863     0.019544  -0.043523   \n",
       "\n",
       "                   HomePlanet_Earth  HomePlanet_Europa  HomePlanet_Mars  \n",
       "CryoSleep                 -0.107231           0.093395         0.032715  \n",
       "Age                       -0.200187           0.217005         0.015410  \n",
       "RoomService               -0.140544          -0.066666         0.245330  \n",
       "FoodCourt                 -0.214099           0.364114        -0.124887  \n",
       "ShoppingMall              -0.071912          -0.021154         0.111654  \n",
       "Spa                       -0.159135           0.266125        -0.087995  \n",
       "VRDeck                    -0.154064           0.282556        -0.111863  \n",
       "Transported               -0.168845           0.176916         0.019544  \n",
       "VIP_False                  0.162345          -0.147008        -0.043523  \n",
       "HomePlanet_Earth           1.000000          -0.633221        -0.559658  \n",
       "HomePlanet_Europa         -0.633221           1.000000        -0.287022  \n",
       "HomePlanet_Mars           -0.559658          -0.287022         1.000000  "
      ]
     },
     "execution_count": 58,
     "metadata": {},
     "output_type": "execute_result"
    }
   ],
   "source": [
    "df.corr()"
   ]
  },
  {
   "attachments": {},
   "cell_type": "markdown",
   "metadata": {},
   "source": [
    "然後在x軸暫處理掉transported，因為我們需要他在y軸。"
   ]
  },
  {
   "cell_type": "code",
   "execution_count": 59,
   "metadata": {},
   "outputs": [],
   "source": [
    "x = df.drop(['Transported', 'CryoSleep'], axis = 1)"
   ]
  },
  {
   "cell_type": "code",
   "execution_count": 60,
   "metadata": {},
   "outputs": [],
   "source": [
    "y = df['Transported']"
   ]
  },
  {
   "attachments": {},
   "cell_type": "markdown",
   "metadata": {},
   "source": [
    "以下是建立形成prediction的過程。"
   ]
  },
  {
   "cell_type": "code",
   "execution_count": 61,
   "metadata": {},
   "outputs": [],
   "source": [
    "from sklearn.model_selection import train_test_split"
   ]
  },
  {
   "cell_type": "code",
   "execution_count": 62,
   "metadata": {},
   "outputs": [],
   "source": [
    "x_train, x_test, y_train, y_test = train_test_split(x,y, test_size=0.3, random_state=67)"
   ]
  },
  {
   "cell_type": "code",
   "execution_count": 63,
   "metadata": {},
   "outputs": [],
   "source": [
    "from sklearn.linear_model import LogisticRegression"
   ]
  },
  {
   "attachments": {},
   "cell_type": "markdown",
   "metadata": {},
   "source": [
    "最大迭代次數設定"
   ]
  },
  {
   "cell_type": "code",
   "execution_count": 64,
   "metadata": {},
   "outputs": [],
   "source": [
    "lr = LogisticRegression(max_iter=200)"
   ]
  },
  {
   "cell_type": "code",
   "execution_count": 65,
   "metadata": {},
   "outputs": [
    {
     "data": {
      "text/html": [
       "<style>#sk-container-id-1 {color: black;background-color: white;}#sk-container-id-1 pre{padding: 0;}#sk-container-id-1 div.sk-toggleable {background-color: white;}#sk-container-id-1 label.sk-toggleable__label {cursor: pointer;display: block;width: 100%;margin-bottom: 0;padding: 0.3em;box-sizing: border-box;text-align: center;}#sk-container-id-1 label.sk-toggleable__label-arrow:before {content: \"▸\";float: left;margin-right: 0.25em;color: #696969;}#sk-container-id-1 label.sk-toggleable__label-arrow:hover:before {color: black;}#sk-container-id-1 div.sk-estimator:hover label.sk-toggleable__label-arrow:before {color: black;}#sk-container-id-1 div.sk-toggleable__content {max-height: 0;max-width: 0;overflow: hidden;text-align: left;background-color: #f0f8ff;}#sk-container-id-1 div.sk-toggleable__content pre {margin: 0.2em;color: black;border-radius: 0.25em;background-color: #f0f8ff;}#sk-container-id-1 input.sk-toggleable__control:checked~div.sk-toggleable__content {max-height: 200px;max-width: 100%;overflow: auto;}#sk-container-id-1 input.sk-toggleable__control:checked~label.sk-toggleable__label-arrow:before {content: \"▾\";}#sk-container-id-1 div.sk-estimator input.sk-toggleable__control:checked~label.sk-toggleable__label {background-color: #d4ebff;}#sk-container-id-1 div.sk-label input.sk-toggleable__control:checked~label.sk-toggleable__label {background-color: #d4ebff;}#sk-container-id-1 input.sk-hidden--visually {border: 0;clip: rect(1px 1px 1px 1px);clip: rect(1px, 1px, 1px, 1px);height: 1px;margin: -1px;overflow: hidden;padding: 0;position: absolute;width: 1px;}#sk-container-id-1 div.sk-estimator {font-family: monospace;background-color: #f0f8ff;border: 1px dotted black;border-radius: 0.25em;box-sizing: border-box;margin-bottom: 0.5em;}#sk-container-id-1 div.sk-estimator:hover {background-color: #d4ebff;}#sk-container-id-1 div.sk-parallel-item::after {content: \"\";width: 100%;border-bottom: 1px solid gray;flex-grow: 1;}#sk-container-id-1 div.sk-label:hover label.sk-toggleable__label {background-color: #d4ebff;}#sk-container-id-1 div.sk-serial::before {content: \"\";position: absolute;border-left: 1px solid gray;box-sizing: border-box;top: 0;bottom: 0;left: 50%;z-index: 0;}#sk-container-id-1 div.sk-serial {display: flex;flex-direction: column;align-items: center;background-color: white;padding-right: 0.2em;padding-left: 0.2em;position: relative;}#sk-container-id-1 div.sk-item {position: relative;z-index: 1;}#sk-container-id-1 div.sk-parallel {display: flex;align-items: stretch;justify-content: center;background-color: white;position: relative;}#sk-container-id-1 div.sk-item::before, #sk-container-id-1 div.sk-parallel-item::before {content: \"\";position: absolute;border-left: 1px solid gray;box-sizing: border-box;top: 0;bottom: 0;left: 50%;z-index: -1;}#sk-container-id-1 div.sk-parallel-item {display: flex;flex-direction: column;z-index: 1;position: relative;background-color: white;}#sk-container-id-1 div.sk-parallel-item:first-child::after {align-self: flex-end;width: 50%;}#sk-container-id-1 div.sk-parallel-item:last-child::after {align-self: flex-start;width: 50%;}#sk-container-id-1 div.sk-parallel-item:only-child::after {width: 0;}#sk-container-id-1 div.sk-dashed-wrapped {border: 1px dashed gray;margin: 0 0.4em 0.5em 0.4em;box-sizing: border-box;padding-bottom: 0.4em;background-color: white;}#sk-container-id-1 div.sk-label label {font-family: monospace;font-weight: bold;display: inline-block;line-height: 1.2em;}#sk-container-id-1 div.sk-label-container {text-align: center;}#sk-container-id-1 div.sk-container {/* jupyter's `normalize.less` sets `[hidden] { display: none; }` but bootstrap.min.css set `[hidden] { display: none !important; }` so we also need the `!important` here to be able to override the default hidden behavior on the sphinx rendered scikit-learn.org. See: https://github.com/scikit-learn/scikit-learn/issues/21755 */display: inline-block !important;position: relative;}#sk-container-id-1 div.sk-text-repr-fallback {display: none;}</style><div id=\"sk-container-id-1\" class=\"sk-top-container\"><div class=\"sk-text-repr-fallback\"><pre>LogisticRegression(max_iter=200)</pre><b>In a Jupyter environment, please rerun this cell to show the HTML representation or trust the notebook. <br />On GitHub, the HTML representation is unable to render, please try loading this page with nbviewer.org.</b></div><div class=\"sk-container\" hidden><div class=\"sk-item\"><div class=\"sk-estimator sk-toggleable\"><input class=\"sk-toggleable__control sk-hidden--visually\" id=\"sk-estimator-id-1\" type=\"checkbox\" checked><label for=\"sk-estimator-id-1\" class=\"sk-toggleable__label sk-toggleable__label-arrow\">LogisticRegression</label><div class=\"sk-toggleable__content\"><pre>LogisticRegression(max_iter=200)</pre></div></div></div></div></div>"
      ],
      "text/plain": [
       "LogisticRegression(max_iter=200)"
      ]
     },
     "execution_count": 65,
     "metadata": {},
     "output_type": "execute_result"
    }
   ],
   "source": [
    "lr.fit(x_train, y_train)"
   ]
  },
  {
   "attachments": {},
   "cell_type": "markdown",
   "metadata": {},
   "source": [
    "最開始丟掉三個欄位的原因便是出在lr會跑不出來因此刪掉，"
   ]
  },
  {
   "cell_type": "code",
   "execution_count": 66,
   "metadata": {},
   "outputs": [],
   "source": [
    "predictions = lr.predict(x_test)"
   ]
  },
  {
   "cell_type": "code",
   "execution_count": 67,
   "metadata": {},
   "outputs": [],
   "source": [
    "from sklearn.metrics import confusion_matrix, accuracy_score, recall_score, precision_score"
   ]
  },
  {
   "attachments": {},
   "cell_type": "markdown",
   "metadata": {},
   "source": [
    "y軸的準確度預測，三方面整體表現來說大概就是7成5準確度"
   ]
  },
  {
   "cell_type": "code",
   "execution_count": 68,
   "metadata": {},
   "outputs": [
    {
     "data": {
      "text/plain": [
       "0.781058282208589"
      ]
     },
     "execution_count": 68,
     "metadata": {},
     "output_type": "execute_result"
    }
   ],
   "source": [
    "accuracy_score(y_test, predictions)"
   ]
  },
  {
   "cell_type": "code",
   "execution_count": 69,
   "metadata": {},
   "outputs": [
    {
     "data": {
      "text/plain": [
       "0.8986280487804879"
      ]
     },
     "execution_count": 69,
     "metadata": {},
     "output_type": "execute_result"
    }
   ],
   "source": [
    "recall_score(y_test, predictions)"
   ]
  },
  {
   "cell_type": "code",
   "execution_count": 70,
   "metadata": {},
   "outputs": [
    {
     "data": {
      "text/plain": [
       "0.7291280148423006"
      ]
     },
     "execution_count": 70,
     "metadata": {},
     "output_type": "execute_result"
    }
   ],
   "source": [
    "precision_score(y_test,predictions)"
   ]
  },
  {
   "attachments": {},
   "cell_type": "markdown",
   "metadata": {},
   "source": [
    "形成預測表"
   ]
  },
  {
   "cell_type": "code",
   "execution_count": 71,
   "metadata": {},
   "outputs": [
    {
     "data": {
      "text/html": [
       "<div>\n",
       "<style scoped>\n",
       "    .dataframe tbody tr th:only-of-type {\n",
       "        vertical-align: middle;\n",
       "    }\n",
       "\n",
       "    .dataframe tbody tr th {\n",
       "        vertical-align: top;\n",
       "    }\n",
       "\n",
       "    .dataframe thead th {\n",
       "        text-align: right;\n",
       "    }\n",
       "</style>\n",
       "<table border=\"1\" class=\"dataframe\">\n",
       "  <thead>\n",
       "    <tr style=\"text-align: right;\">\n",
       "      <th></th>\n",
       "      <th>Predict not Transported</th>\n",
       "      <th>Predict Transported</th>\n",
       "    </tr>\n",
       "  </thead>\n",
       "  <tbody>\n",
       "    <tr>\n",
       "      <th>True not Transported</th>\n",
       "      <td>858</td>\n",
       "      <td>438</td>\n",
       "    </tr>\n",
       "    <tr>\n",
       "      <th>True Transported</th>\n",
       "      <td>133</td>\n",
       "      <td>1179</td>\n",
       "    </tr>\n",
       "  </tbody>\n",
       "</table>\n",
       "</div>"
      ],
      "text/plain": [
       "                      Predict not Transported  Predict Transported\n",
       "True not Transported                      858                  438\n",
       "True Transported                          133                 1179"
      ]
     },
     "execution_count": 71,
     "metadata": {},
     "output_type": "execute_result"
    }
   ],
   "source": [
    "pd.DataFrame(confusion_matrix(y_test, predictions), columns=['Predict not Transported','Predict Transported'], index=['True not Transported', 'True Transported'])"
   ]
  },
  {
   "cell_type": "code",
   "execution_count": 72,
   "metadata": {},
   "outputs": [],
   "source": [
    "import joblib"
   ]
  },
  {
   "attachments": {},
   "cell_type": "markdown",
   "metadata": {},
   "source": [
    "最後pkl輸出成一個檔案。"
   ]
  },
  {
   "cell_type": "code",
   "execution_count": 73,
   "metadata": {},
   "outputs": [
    {
     "data": {
      "text/plain": [
       "['Titanic-Spaceship-20230417.pkl']"
      ]
     },
     "execution_count": 73,
     "metadata": {},
     "output_type": "execute_result"
    }
   ],
   "source": [
    "joblib.dump(lr, 'Titanic-Spaceship-20230417.pkl' ,compress=3)"
   ]
  },
  {
   "attachments": {},
   "cell_type": "markdown",
   "metadata": {},
   "source": [
    "以下是submission檔，首先輸入模組以及讀取檔案"
   ]
  },
  {
   "cell_type": "code",
   "execution_count": 74,
   "metadata": {},
   "outputs": [],
   "source": [
    "import joblib"
   ]
  },
  {
   "cell_type": "code",
   "execution_count": 75,
   "metadata": {},
   "outputs": [],
   "source": [
    "model_pretrained = joblib.load('Titanic-Spaceship-20230417.pkl')"
   ]
  },
  {
   "cell_type": "code",
   "execution_count": 76,
   "metadata": {},
   "outputs": [],
   "source": [
    "import pandas as pd"
   ]
  },
  {
   "cell_type": "code",
   "execution_count": 77,
   "metadata": {},
   "outputs": [],
   "source": [
    "df_test = pd.read_csv(\"test.csv\")"
   ]
  },
  {
   "attachments": {},
   "cell_type": "markdown",
   "metadata": {},
   "source": [
    "以下操作和joshua檔一樣，drop掉cabin、destination、name"
   ]
  },
  {
   "cell_type": "code",
   "execution_count": 78,
   "metadata": {},
   "outputs": [],
   "source": [
    "df_test.drop(['Name','Destination'], axis=1, inplace=True)"
   ]
  },
  {
   "cell_type": "code",
   "execution_count": 79,
   "metadata": {},
   "outputs": [],
   "source": [
    "df_test.drop('Cabin', axis=1, inplace=True)\n"
   ]
  },
  {
   "attachments": {},
   "cell_type": "markdown",
   "metadata": {},
   "source": [
    "發現各項資料空值很多，因此要和在joshua檔一樣的動作填補"
   ]
  },
  {
   "cell_type": "code",
   "execution_count": 80,
   "metadata": {},
   "outputs": [
    {
     "name": "stdout",
     "output_type": "stream",
     "text": [
      "<class 'pandas.core.frame.DataFrame'>\n",
      "RangeIndex: 4277 entries, 0 to 4276\n",
      "Data columns (total 10 columns):\n",
      " #   Column        Non-Null Count  Dtype  \n",
      "---  ------        --------------  -----  \n",
      " 0   PassengerId   4277 non-null   object \n",
      " 1   HomePlanet    4190 non-null   object \n",
      " 2   CryoSleep     4184 non-null   object \n",
      " 3   Age           4186 non-null   float64\n",
      " 4   VIP           4184 non-null   object \n",
      " 5   RoomService   4195 non-null   float64\n",
      " 6   FoodCourt     4171 non-null   float64\n",
      " 7   ShoppingMall  4179 non-null   float64\n",
      " 8   Spa           4176 non-null   float64\n",
      " 9   VRDeck        4197 non-null   float64\n",
      "dtypes: float64(6), object(4)\n",
      "memory usage: 334.3+ KB\n"
     ]
    }
   ],
   "source": [
    "df_test.info()"
   ]
  },
  {
   "attachments": {},
   "cell_type": "markdown",
   "metadata": {},
   "source": [
    "以下是非純數值型資料先用眾數填補法，同joshua檔操作，便不細說明。"
   ]
  },
  {
   "cell_type": "code",
   "execution_count": 81,
   "metadata": {},
   "outputs": [
    {
     "data": {
      "text/plain": [
       "'Earth'"
      ]
     },
     "execution_count": 81,
     "metadata": {},
     "output_type": "execute_result"
    }
   ],
   "source": [
    "df_test['HomePlanet'].value_counts().idxmax()"
   ]
  },
  {
   "cell_type": "code",
   "execution_count": 82,
   "metadata": {},
   "outputs": [],
   "source": [
    "df_test['HomePlanet'].fillna(df_test['HomePlanet'].value_counts().idxmax(),inplace = True )"
   ]
  },
  {
   "cell_type": "code",
   "execution_count": 83,
   "metadata": {},
   "outputs": [
    {
     "data": {
      "text/plain": [
       "False"
      ]
     },
     "execution_count": 83,
     "metadata": {},
     "output_type": "execute_result"
    }
   ],
   "source": [
    "df_test['CryoSleep'].value_counts().idxmax()"
   ]
  },
  {
   "cell_type": "code",
   "execution_count": 84,
   "metadata": {},
   "outputs": [],
   "source": [
    "df_test['CryoSleep'].fillna(df_test['CryoSleep'].value_counts().idxmax(),inplace = True )"
   ]
  },
  {
   "cell_type": "code",
   "execution_count": 85,
   "metadata": {},
   "outputs": [
    {
     "data": {
      "text/plain": [
       "False"
      ]
     },
     "execution_count": 85,
     "metadata": {},
     "output_type": "execute_result"
    }
   ],
   "source": [
    "df_test['VIP'].value_counts().idxmax()"
   ]
  },
  {
   "cell_type": "code",
   "execution_count": 86,
   "metadata": {},
   "outputs": [],
   "source": [
    "df_test['VIP'].fillna(df_test['VIP'].value_counts().idxmax(),inplace = True )"
   ]
  },
  {
   "cell_type": "code",
   "execution_count": 87,
   "metadata": {},
   "outputs": [
    {
     "data": {
      "text/plain": [
       "18.0"
      ]
     },
     "execution_count": 87,
     "metadata": {},
     "output_type": "execute_result"
    }
   ],
   "source": [
    "df_test['Age'].value_counts().idxmax()"
   ]
  },
  {
   "cell_type": "code",
   "execution_count": 88,
   "metadata": {},
   "outputs": [],
   "source": [
    "df_test['Age'].fillna(df_test['Age'].value_counts().idxmax(),inplace = True )"
   ]
  },
  {
   "attachments": {},
   "cell_type": "markdown",
   "metadata": {},
   "source": [
    "以下用關聯式比較，中位數填補。"
   ]
  },
  {
   "cell_type": "code",
   "execution_count": 89,
   "metadata": {},
   "outputs": [],
   "source": [
    "df_test['RoomService'] = df_test.groupby('Age')['RoomService'].apply(lambda x: x.fillna(x.median()))"
   ]
  },
  {
   "cell_type": "code",
   "execution_count": 90,
   "metadata": {},
   "outputs": [],
   "source": [
    "df_test['FoodCourt'] = df_test.groupby('Age')['FoodCourt'].apply(lambda x: x.fillna(x.median()))"
   ]
  },
  {
   "cell_type": "code",
   "execution_count": 91,
   "metadata": {},
   "outputs": [],
   "source": [
    "df_test['ShoppingMall'] = df_test.groupby('Age')['ShoppingMall'].apply(lambda x: x.fillna(x.median()))"
   ]
  },
  {
   "cell_type": "code",
   "execution_count": 92,
   "metadata": {},
   "outputs": [],
   "source": [
    "df_test['Spa'] = df_test.groupby('Age')['Spa'].apply(lambda x: x.fillna(x.median()))"
   ]
  },
  {
   "cell_type": "code",
   "execution_count": 93,
   "metadata": {},
   "outputs": [],
   "source": [
    "df_test['VRDeck'] = df_test.groupby('Age')['VRDeck'].apply(lambda x: x.fillna(x.median()))"
   ]
  },
  {
   "attachments": {},
   "cell_type": "markdown",
   "metadata": {},
   "source": [
    "最後再跑一次測總值，發現已無空值，資訊上也全部呈現非空值。"
   ]
  },
  {
   "cell_type": "code",
   "execution_count": 94,
   "metadata": {},
   "outputs": [
    {
     "data": {
      "text/plain": [
       "PassengerId     0\n",
       "HomePlanet      0\n",
       "CryoSleep       0\n",
       "Age             0\n",
       "VIP             0\n",
       "RoomService     0\n",
       "FoodCourt       0\n",
       "ShoppingMall    0\n",
       "Spa             0\n",
       "VRDeck          0\n",
       "dtype: int64"
      ]
     },
     "execution_count": 94,
     "metadata": {},
     "output_type": "execute_result"
    }
   ],
   "source": [
    "df_test.isnull().sum()"
   ]
  },
  {
   "cell_type": "code",
   "execution_count": 95,
   "metadata": {},
   "outputs": [
    {
     "name": "stdout",
     "output_type": "stream",
     "text": [
      "<class 'pandas.core.frame.DataFrame'>\n",
      "RangeIndex: 4277 entries, 0 to 4276\n",
      "Data columns (total 10 columns):\n",
      " #   Column        Non-Null Count  Dtype  \n",
      "---  ------        --------------  -----  \n",
      " 0   PassengerId   4277 non-null   object \n",
      " 1   HomePlanet    4277 non-null   object \n",
      " 2   CryoSleep     4277 non-null   bool   \n",
      " 3   Age           4277 non-null   float64\n",
      " 4   VIP           4277 non-null   bool   \n",
      " 5   RoomService   4277 non-null   float64\n",
      " 6   FoodCourt     4277 non-null   float64\n",
      " 7   ShoppingMall  4277 non-null   float64\n",
      " 8   Spa           4277 non-null   float64\n",
      " 9   VRDeck        4277 non-null   float64\n",
      "dtypes: bool(2), float64(6), object(2)\n",
      "memory usage: 275.8+ KB\n"
     ]
    }
   ],
   "source": [
    "df_test.info()"
   ]
  },
  {
   "attachments": {},
   "cell_type": "markdown",
   "metadata": {},
   "source": [
    "以下找分類少的欄目做columns，轉換VIP為純數值資料呈現。"
   ]
  },
  {
   "cell_type": "code",
   "execution_count": 96,
   "metadata": {},
   "outputs": [],
   "source": [
    "df_test = pd.get_dummies(data=df_test, columns=['VIP', 'HomePlanet'])"
   ]
  },
  {
   "cell_type": "code",
   "execution_count": 97,
   "metadata": {},
   "outputs": [],
   "source": [
    "df_test.drop('VIP_True', axis=1, inplace=True)"
   ]
  },
  {
   "cell_type": "code",
   "execution_count": 98,
   "metadata": {},
   "outputs": [],
   "source": [
    "df_test.drop('CryoSleep', axis=1, inplace=True)"
   ]
  },
  {
   "attachments": {},
   "cell_type": "markdown",
   "metadata": {},
   "source": [
    "載入預測模型"
   ]
  },
  {
   "cell_type": "code",
   "execution_count": 99,
   "metadata": {},
   "outputs": [],
   "source": [
    "predictions2 = model_pretrained.predict(df_test)"
   ]
  },
  {
   "cell_type": "code",
   "execution_count": 100,
   "metadata": {},
   "outputs": [
    {
     "data": {
      "text/plain": [
       "array([ True, False,  True, ...,  True,  True,  True])"
      ]
     },
     "execution_count": 100,
     "metadata": {},
     "output_type": "execute_result"
    }
   ],
   "source": [
    "predictions2 "
   ]
  },
  {
   "cell_type": "code",
   "execution_count": 101,
   "metadata": {},
   "outputs": [],
   "source": [
    "forSubmissionDF = pd.DataFrame(columns=['PassengerId', 'Transported'])"
   ]
  },
  {
   "cell_type": "code",
   "execution_count": 102,
   "metadata": {},
   "outputs": [
    {
     "data": {
      "text/html": [
       "<div>\n",
       "<style scoped>\n",
       "    .dataframe tbody tr th:only-of-type {\n",
       "        vertical-align: middle;\n",
       "    }\n",
       "\n",
       "    .dataframe tbody tr th {\n",
       "        vertical-align: top;\n",
       "    }\n",
       "\n",
       "    .dataframe thead th {\n",
       "        text-align: right;\n",
       "    }\n",
       "</style>\n",
       "<table border=\"1\" class=\"dataframe\">\n",
       "  <thead>\n",
       "    <tr style=\"text-align: right;\">\n",
       "      <th></th>\n",
       "      <th>PassengerId</th>\n",
       "      <th>Transported</th>\n",
       "    </tr>\n",
       "  </thead>\n",
       "  <tbody>\n",
       "  </tbody>\n",
       "</table>\n",
       "</div>"
      ],
      "text/plain": [
       "Empty DataFrame\n",
       "Columns: [PassengerId, Transported]\n",
       "Index: []"
      ]
     },
     "execution_count": 102,
     "metadata": {},
     "output_type": "execute_result"
    }
   ],
   "source": [
    "forSubmissionDF"
   ]
  },
  {
   "attachments": {},
   "cell_type": "markdown",
   "metadata": {},
   "source": [
    "此處有稍作調整，由於Id非不是單純的1.2.3，而是有特殊符號，所以不以range，改用read讀取的方式。"
   ]
  },
  {
   "cell_type": "code",
   "execution_count": 103,
   "metadata": {},
   "outputs": [],
   "source": [
    "forSubmissionDF['PassengerId'] =  pd.read_csv('test.csv')['PassengerId']"
   ]
  },
  {
   "cell_type": "code",
   "execution_count": 104,
   "metadata": {},
   "outputs": [],
   "source": [
    "forSubmissionDF['Transported'] = predictions2"
   ]
  },
  {
   "cell_type": "code",
   "execution_count": 105,
   "metadata": {},
   "outputs": [],
   "source": [
    "forSubmissionDF.to_csv('for_submission_carat.csv', index=False)"
   ]
  },
  {
   "attachments": {},
   "cell_type": "markdown",
   "metadata": {},
   "source": [
    "此份資料是用來預測transported的true、false，sample呈現其實transported全部都是false，按照自己過往所學的內容可以獲得的準確度我覺得頗為滿意了，因為這是初次接觸預測的模型，雖然不可能達到極高標準，但在其中也有探索一些簡單方便的小技巧，像是資料修正、填補的部分，還有跟同學一起討論填補方式及可行性，如何填補會形成最佳預測值？討論過程很有趣也很新鮮，相信未來這個知識可以確實應用在商業操作或經濟預測上，當然還需要學得很深入才行，總結來說是個cp值很高的一個大規模數據預測方式，最後謝謝老師不厭其煩的解答我的疑惑，由衷感激您。"
   ]
  }
 ],
 "metadata": {
  "kernelspec": {
   "display_name": "Python 3",
   "language": "python",
   "name": "python3"
  },
  "language_info": {
   "codemirror_mode": {
    "name": "ipython",
    "version": 3
   },
   "file_extension": ".py",
   "mimetype": "text/x-python",
   "name": "python",
   "nbconvert_exporter": "python",
   "pygments_lexer": "ipython3",
   "version": "3.9.7"
  },
  "orig_nbformat": 4
 },
 "nbformat": 4,
 "nbformat_minor": 2
}
